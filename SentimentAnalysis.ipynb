{
  "nbformat": 4,
  "nbformat_minor": 0,
  "metadata": {
    "colab": {
      "provenance": []
    },
    "kernelspec": {
      "name": "python3",
      "display_name": "Python 3"
    },
    "language_info": {
      "name": "python"
    }
  },
  "cells": [
    {
      "cell_type": "markdown",
      "source": [
        "# Dependências"
      ],
      "metadata": {
        "id": "lyXSlX4bbcDr"
      }
    },
    {
      "cell_type": "code",
      "source": [
        "%pip install unidecode"
      ],
      "metadata": {
        "colab": {
          "base_uri": "https://localhost:8080/"
        },
        "collapsed": true,
        "id": "3-H2jCfqk2rd",
        "outputId": "ec247ec1-9288-4016-c3a7-2c4c4bd34e4e"
      },
      "execution_count": null,
      "outputs": [
        {
          "output_type": "stream",
          "name": "stdout",
          "text": [
            "Collecting unidecode\n",
            "  Downloading Unidecode-1.3.8-py3-none-any.whl (235 kB)\n",
            "\u001b[2K     \u001b[90m━━━━━━━━━━━━━━━━━━━━━━━━━━━━━━━━━━━━━━━━\u001b[0m \u001b[32m235.5/235.5 kB\u001b[0m \u001b[31m3.7 MB/s\u001b[0m eta \u001b[36m0:00:00\u001b[0m\n",
            "\u001b[?25hInstalling collected packages: unidecode\n",
            "Successfully installed unidecode-1.3.8\n"
          ]
        }
      ]
    },
    {
      "cell_type": "code",
      "source": [
        "%pip install spacy"
      ],
      "metadata": {
        "colab": {
          "base_uri": "https://localhost:8080/"
        },
        "collapsed": true,
        "id": "hbzu74z9sD3W",
        "outputId": "de5fceab-6404-4150-ba3f-efed776af076"
      },
      "execution_count": null,
      "outputs": [
        {
          "output_type": "stream",
          "name": "stdout",
          "text": [
            "Requirement already satisfied: spacy in /usr/local/lib/python3.10/dist-packages (3.7.5)\n",
            "Requirement already satisfied: spacy-legacy<3.1.0,>=3.0.11 in /usr/local/lib/python3.10/dist-packages (from spacy) (3.0.12)\n",
            "Requirement already satisfied: spacy-loggers<2.0.0,>=1.0.0 in /usr/local/lib/python3.10/dist-packages (from spacy) (1.0.5)\n",
            "Requirement already satisfied: murmurhash<1.1.0,>=0.28.0 in /usr/local/lib/python3.10/dist-packages (from spacy) (1.0.10)\n",
            "Requirement already satisfied: cymem<2.1.0,>=2.0.2 in /usr/local/lib/python3.10/dist-packages (from spacy) (2.0.8)\n",
            "Requirement already satisfied: preshed<3.1.0,>=3.0.2 in /usr/local/lib/python3.10/dist-packages (from spacy) (3.0.9)\n",
            "Requirement already satisfied: thinc<8.3.0,>=8.2.2 in /usr/local/lib/python3.10/dist-packages (from spacy) (8.2.5)\n",
            "Requirement already satisfied: wasabi<1.2.0,>=0.9.1 in /usr/local/lib/python3.10/dist-packages (from spacy) (1.1.3)\n",
            "Requirement already satisfied: srsly<3.0.0,>=2.4.3 in /usr/local/lib/python3.10/dist-packages (from spacy) (2.4.8)\n",
            "Requirement already satisfied: catalogue<2.1.0,>=2.0.6 in /usr/local/lib/python3.10/dist-packages (from spacy) (2.0.10)\n",
            "Requirement already satisfied: weasel<0.5.0,>=0.1.0 in /usr/local/lib/python3.10/dist-packages (from spacy) (0.4.1)\n",
            "Requirement already satisfied: typer<1.0.0,>=0.3.0 in /usr/local/lib/python3.10/dist-packages (from spacy) (0.12.3)\n",
            "Requirement already satisfied: tqdm<5.0.0,>=4.38.0 in /usr/local/lib/python3.10/dist-packages (from spacy) (4.66.4)\n",
            "Requirement already satisfied: requests<3.0.0,>=2.13.0 in /usr/local/lib/python3.10/dist-packages (from spacy) (2.31.0)\n",
            "Requirement already satisfied: pydantic!=1.8,!=1.8.1,<3.0.0,>=1.7.4 in /usr/local/lib/python3.10/dist-packages (from spacy) (2.8.0)\n",
            "Requirement already satisfied: jinja2 in /usr/local/lib/python3.10/dist-packages (from spacy) (3.1.4)\n",
            "Requirement already satisfied: setuptools in /usr/local/lib/python3.10/dist-packages (from spacy) (67.7.2)\n",
            "Requirement already satisfied: packaging>=20.0 in /usr/local/lib/python3.10/dist-packages (from spacy) (24.1)\n",
            "Requirement already satisfied: langcodes<4.0.0,>=3.2.0 in /usr/local/lib/python3.10/dist-packages (from spacy) (3.4.0)\n",
            "Requirement already satisfied: numpy>=1.19.0 in /usr/local/lib/python3.10/dist-packages (from spacy) (1.25.2)\n",
            "Requirement already satisfied: language-data>=1.2 in /usr/local/lib/python3.10/dist-packages (from langcodes<4.0.0,>=3.2.0->spacy) (1.2.0)\n",
            "Requirement already satisfied: annotated-types>=0.4.0 in /usr/local/lib/python3.10/dist-packages (from pydantic!=1.8,!=1.8.1,<3.0.0,>=1.7.4->spacy) (0.7.0)\n",
            "Requirement already satisfied: pydantic-core==2.20.0 in /usr/local/lib/python3.10/dist-packages (from pydantic!=1.8,!=1.8.1,<3.0.0,>=1.7.4->spacy) (2.20.0)\n",
            "Requirement already satisfied: typing-extensions>=4.6.1 in /usr/local/lib/python3.10/dist-packages (from pydantic!=1.8,!=1.8.1,<3.0.0,>=1.7.4->spacy) (4.12.2)\n",
            "Requirement already satisfied: charset-normalizer<4,>=2 in /usr/local/lib/python3.10/dist-packages (from requests<3.0.0,>=2.13.0->spacy) (3.3.2)\n",
            "Requirement already satisfied: idna<4,>=2.5 in /usr/local/lib/python3.10/dist-packages (from requests<3.0.0,>=2.13.0->spacy) (3.7)\n",
            "Requirement already satisfied: urllib3<3,>=1.21.1 in /usr/local/lib/python3.10/dist-packages (from requests<3.0.0,>=2.13.0->spacy) (2.0.7)\n",
            "Requirement already satisfied: certifi>=2017.4.17 in /usr/local/lib/python3.10/dist-packages (from requests<3.0.0,>=2.13.0->spacy) (2024.6.2)\n",
            "Requirement already satisfied: blis<0.8.0,>=0.7.8 in /usr/local/lib/python3.10/dist-packages (from thinc<8.3.0,>=8.2.2->spacy) (0.7.11)\n",
            "Requirement already satisfied: confection<1.0.0,>=0.0.1 in /usr/local/lib/python3.10/dist-packages (from thinc<8.3.0,>=8.2.2->spacy) (0.1.5)\n",
            "Requirement already satisfied: click>=8.0.0 in /usr/local/lib/python3.10/dist-packages (from typer<1.0.0,>=0.3.0->spacy) (8.1.7)\n",
            "Requirement already satisfied: shellingham>=1.3.0 in /usr/local/lib/python3.10/dist-packages (from typer<1.0.0,>=0.3.0->spacy) (1.5.4)\n",
            "Requirement already satisfied: rich>=10.11.0 in /usr/local/lib/python3.10/dist-packages (from typer<1.0.0,>=0.3.0->spacy) (13.7.1)\n",
            "Requirement already satisfied: cloudpathlib<1.0.0,>=0.7.0 in /usr/local/lib/python3.10/dist-packages (from weasel<0.5.0,>=0.1.0->spacy) (0.18.1)\n",
            "Requirement already satisfied: smart-open<8.0.0,>=5.2.1 in /usr/local/lib/python3.10/dist-packages (from weasel<0.5.0,>=0.1.0->spacy) (7.0.4)\n",
            "Requirement already satisfied: MarkupSafe>=2.0 in /usr/local/lib/python3.10/dist-packages (from jinja2->spacy) (2.1.5)\n",
            "Requirement already satisfied: marisa-trie>=0.7.7 in /usr/local/lib/python3.10/dist-packages (from language-data>=1.2->langcodes<4.0.0,>=3.2.0->spacy) (1.2.0)\n",
            "Requirement already satisfied: markdown-it-py>=2.2.0 in /usr/local/lib/python3.10/dist-packages (from rich>=10.11.0->typer<1.0.0,>=0.3.0->spacy) (3.0.0)\n",
            "Requirement already satisfied: pygments<3.0.0,>=2.13.0 in /usr/local/lib/python3.10/dist-packages (from rich>=10.11.0->typer<1.0.0,>=0.3.0->spacy) (2.16.1)\n",
            "Requirement already satisfied: wrapt in /usr/local/lib/python3.10/dist-packages (from smart-open<8.0.0,>=5.2.1->weasel<0.5.0,>=0.1.0->spacy) (1.14.1)\n",
            "Requirement already satisfied: mdurl~=0.1 in /usr/local/lib/python3.10/dist-packages (from markdown-it-py>=2.2.0->rich>=10.11.0->typer<1.0.0,>=0.3.0->spacy) (0.1.2)\n"
          ]
        }
      ]
    },
    {
      "cell_type": "code",
      "source": [
        "%%python -m spacy download en_core_web_sm"
      ],
      "metadata": {
        "colab": {
          "base_uri": "https://localhost:8080/"
        },
        "collapsed": true,
        "id": "Ia_bhy2KsGbu",
        "outputId": "55420e6c-0ac2-4279-9526-a492dc6201b6"
      },
      "execution_count": null,
      "outputs": [
        {
          "output_type": "stream",
          "name": "stdout",
          "text": [
            "Collecting en-core-web-sm==3.7.1\n",
            "  Downloading https://github.com/explosion/spacy-models/releases/download/en_core_web_sm-3.7.1/en_core_web_sm-3.7.1-py3-none-any.whl (12.8 MB)\n",
            "     ━━━━━━━━━━━━━━━━━━━━━━━━━━━━━━━━━━━━━━━━ 12.8/12.8 MB 18.4 MB/s eta 0:00:00\n",
            "Requirement already satisfied: spacy<3.8.0,>=3.7.2 in /usr/local/lib/python3.10/dist-packages (from en-core-web-sm==3.7.1) (3.7.5)\n",
            "Requirement already satisfied: spacy-legacy<3.1.0,>=3.0.11 in /usr/local/lib/python3.10/dist-packages (from spacy<3.8.0,>=3.7.2->en-core-web-sm==3.7.1) (3.0.12)\n",
            "Requirement already satisfied: spacy-loggers<2.0.0,>=1.0.0 in /usr/local/lib/python3.10/dist-packages (from spacy<3.8.0,>=3.7.2->en-core-web-sm==3.7.1) (1.0.5)\n",
            "Requirement already satisfied: murmurhash<1.1.0,>=0.28.0 in /usr/local/lib/python3.10/dist-packages (from spacy<3.8.0,>=3.7.2->en-core-web-sm==3.7.1) (1.0.10)\n",
            "Requirement already satisfied: cymem<2.1.0,>=2.0.2 in /usr/local/lib/python3.10/dist-packages (from spacy<3.8.0,>=3.7.2->en-core-web-sm==3.7.1) (2.0.8)\n",
            "Requirement already satisfied: preshed<3.1.0,>=3.0.2 in /usr/local/lib/python3.10/dist-packages (from spacy<3.8.0,>=3.7.2->en-core-web-sm==3.7.1) (3.0.9)\n",
            "Requirement already satisfied: thinc<8.3.0,>=8.2.2 in /usr/local/lib/python3.10/dist-packages (from spacy<3.8.0,>=3.7.2->en-core-web-sm==3.7.1) (8.2.5)\n",
            "Requirement already satisfied: wasabi<1.2.0,>=0.9.1 in /usr/local/lib/python3.10/dist-packages (from spacy<3.8.0,>=3.7.2->en-core-web-sm==3.7.1) (1.1.3)\n",
            "Requirement already satisfied: srsly<3.0.0,>=2.4.3 in /usr/local/lib/python3.10/dist-packages (from spacy<3.8.0,>=3.7.2->en-core-web-sm==3.7.1) (2.4.8)\n",
            "Requirement already satisfied: catalogue<2.1.0,>=2.0.6 in /usr/local/lib/python3.10/dist-packages (from spacy<3.8.0,>=3.7.2->en-core-web-sm==3.7.1) (2.0.10)\n",
            "Requirement already satisfied: weasel<0.5.0,>=0.1.0 in /usr/local/lib/python3.10/dist-packages (from spacy<3.8.0,>=3.7.2->en-core-web-sm==3.7.1) (0.4.1)\n",
            "Requirement already satisfied: typer<1.0.0,>=0.3.0 in /usr/local/lib/python3.10/dist-packages (from spacy<3.8.0,>=3.7.2->en-core-web-sm==3.7.1) (0.12.3)\n",
            "Requirement already satisfied: tqdm<5.0.0,>=4.38.0 in /usr/local/lib/python3.10/dist-packages (from spacy<3.8.0,>=3.7.2->en-core-web-sm==3.7.1) (4.66.4)\n",
            "Requirement already satisfied: requests<3.0.0,>=2.13.0 in /usr/local/lib/python3.10/dist-packages (from spacy<3.8.0,>=3.7.2->en-core-web-sm==3.7.1) (2.31.0)\n",
            "Requirement already satisfied: pydantic!=1.8,!=1.8.1,<3.0.0,>=1.7.4 in /usr/local/lib/python3.10/dist-packages (from spacy<3.8.0,>=3.7.2->en-core-web-sm==3.7.1) (2.8.0)\n",
            "Requirement already satisfied: jinja2 in /usr/local/lib/python3.10/dist-packages (from spacy<3.8.0,>=3.7.2->en-core-web-sm==3.7.1) (3.1.4)\n",
            "Requirement already satisfied: setuptools in /usr/local/lib/python3.10/dist-packages (from spacy<3.8.0,>=3.7.2->en-core-web-sm==3.7.1) (67.7.2)\n",
            "Requirement already satisfied: packaging>=20.0 in /usr/local/lib/python3.10/dist-packages (from spacy<3.8.0,>=3.7.2->en-core-web-sm==3.7.1) (24.1)\n",
            "Requirement already satisfied: langcodes<4.0.0,>=3.2.0 in /usr/local/lib/python3.10/dist-packages (from spacy<3.8.0,>=3.7.2->en-core-web-sm==3.7.1) (3.4.0)\n",
            "Requirement already satisfied: numpy>=1.19.0 in /usr/local/lib/python3.10/dist-packages (from spacy<3.8.0,>=3.7.2->en-core-web-sm==3.7.1) (1.25.2)\n",
            "Requirement already satisfied: language-data>=1.2 in /usr/local/lib/python3.10/dist-packages (from langcodes<4.0.0,>=3.2.0->spacy<3.8.0,>=3.7.2->en-core-web-sm==3.7.1) (1.2.0)\n",
            "Requirement already satisfied: annotated-types>=0.4.0 in /usr/local/lib/python3.10/dist-packages (from pydantic!=1.8,!=1.8.1,<3.0.0,>=1.7.4->spacy<3.8.0,>=3.7.2->en-core-web-sm==3.7.1) (0.7.0)\n",
            "Requirement already satisfied: pydantic-core==2.20.0 in /usr/local/lib/python3.10/dist-packages (from pydantic!=1.8,!=1.8.1,<3.0.0,>=1.7.4->spacy<3.8.0,>=3.7.2->en-core-web-sm==3.7.1) (2.20.0)\n",
            "Requirement already satisfied: typing-extensions>=4.6.1 in /usr/local/lib/python3.10/dist-packages (from pydantic!=1.8,!=1.8.1,<3.0.0,>=1.7.4->spacy<3.8.0,>=3.7.2->en-core-web-sm==3.7.1) (4.12.2)\n",
            "Requirement already satisfied: charset-normalizer<4,>=2 in /usr/local/lib/python3.10/dist-packages (from requests<3.0.0,>=2.13.0->spacy<3.8.0,>=3.7.2->en-core-web-sm==3.7.1) (3.3.2)\n",
            "Requirement already satisfied: idna<4,>=2.5 in /usr/local/lib/python3.10/dist-packages (from requests<3.0.0,>=2.13.0->spacy<3.8.0,>=3.7.2->en-core-web-sm==3.7.1) (3.7)\n",
            "Requirement already satisfied: urllib3<3,>=1.21.1 in /usr/local/lib/python3.10/dist-packages (from requests<3.0.0,>=2.13.0->spacy<3.8.0,>=3.7.2->en-core-web-sm==3.7.1) (2.0.7)\n",
            "Requirement already satisfied: certifi>=2017.4.17 in /usr/local/lib/python3.10/dist-packages (from requests<3.0.0,>=2.13.0->spacy<3.8.0,>=3.7.2->en-core-web-sm==3.7.1) (2024.6.2)\n",
            "Requirement already satisfied: blis<0.8.0,>=0.7.8 in /usr/local/lib/python3.10/dist-packages (from thinc<8.3.0,>=8.2.2->spacy<3.8.0,>=3.7.2->en-core-web-sm==3.7.1) (0.7.11)\n",
            "Requirement already satisfied: confection<1.0.0,>=0.0.1 in /usr/local/lib/python3.10/dist-packages (from thinc<8.3.0,>=8.2.2->spacy<3.8.0,>=3.7.2->en-core-web-sm==3.7.1) (0.1.5)\n",
            "Requirement already satisfied: click>=8.0.0 in /usr/local/lib/python3.10/dist-packages (from typer<1.0.0,>=0.3.0->spacy<3.8.0,>=3.7.2->en-core-web-sm==3.7.1) (8.1.7)\n",
            "Requirement already satisfied: shellingham>=1.3.0 in /usr/local/lib/python3.10/dist-packages (from typer<1.0.0,>=0.3.0->spacy<3.8.0,>=3.7.2->en-core-web-sm==3.7.1) (1.5.4)\n",
            "Requirement already satisfied: rich>=10.11.0 in /usr/local/lib/python3.10/dist-packages (from typer<1.0.0,>=0.3.0->spacy<3.8.0,>=3.7.2->en-core-web-sm==3.7.1) (13.7.1)\n",
            "Requirement already satisfied: cloudpathlib<1.0.0,>=0.7.0 in /usr/local/lib/python3.10/dist-packages (from weasel<0.5.0,>=0.1.0->spacy<3.8.0,>=3.7.2->en-core-web-sm==3.7.1) (0.18.1)\n",
            "Requirement already satisfied: smart-open<8.0.0,>=5.2.1 in /usr/local/lib/python3.10/dist-packages (from weasel<0.5.0,>=0.1.0->spacy<3.8.0,>=3.7.2->en-core-web-sm==3.7.1) (7.0.4)\n",
            "Requirement already satisfied: MarkupSafe>=2.0 in /usr/local/lib/python3.10/dist-packages (from jinja2->spacy<3.8.0,>=3.7.2->en-core-web-sm==3.7.1) (2.1.5)\n",
            "Requirement already satisfied: marisa-trie>=0.7.7 in /usr/local/lib/python3.10/dist-packages (from language-data>=1.2->langcodes<4.0.0,>=3.2.0->spacy<3.8.0,>=3.7.2->en-core-web-sm==3.7.1) (1.2.0)\n",
            "Requirement already satisfied: markdown-it-py>=2.2.0 in /usr/local/lib/python3.10/dist-packages (from rich>=10.11.0->typer<1.0.0,>=0.3.0->spacy<3.8.0,>=3.7.2->en-core-web-sm==3.7.1) (3.0.0)\n",
            "Requirement already satisfied: pygments<3.0.0,>=2.13.0 in /usr/local/lib/python3.10/dist-packages (from rich>=10.11.0->typer<1.0.0,>=0.3.0->spacy<3.8.0,>=3.7.2->en-core-web-sm==3.7.1) (2.16.1)\n",
            "Requirement already satisfied: wrapt in /usr/local/lib/python3.10/dist-packages (from smart-open<8.0.0,>=5.2.1->weasel<0.5.0,>=0.1.0->spacy<3.8.0,>=3.7.2->en-core-web-sm==3.7.1) (1.14.1)\n",
            "Requirement already satisfied: mdurl~=0.1 in /usr/local/lib/python3.10/dist-packages (from markdown-it-py>=2.2.0->rich>=10.11.0->typer<1.0.0,>=0.3.0->spacy<3.8.0,>=3.7.2->en-core-web-sm==3.7.1) (0.1.2)\n",
            "\u001b[38;5;2m✔ Download and installation successful\u001b[0m\n",
            "You can now load the package via spacy.load('en_core_web_sm')\n",
            "\u001b[38;5;3m⚠ Restart to reload dependencies\u001b[0m\n",
            "If you are in a Jupyter or Colab notebook, you may need to restart Python in\n",
            "order to load all the package's dependencies. You can do this by selecting the\n",
            "'Restart kernel' or 'Restart runtime' option.\n"
          ]
        }
      ]
    },
    {
      "cell_type": "code",
      "source": [
        "import pandas as pd\n",
        "import numpy as np\n",
        "from sklearn.model_selection import train_test_split, cross_val_score\n",
        "from sklearn.feature_extraction.text import TfidfVectorizer, CountVectorizer\n",
        "from unidecode import unidecode\n",
        "import re\n",
        "import nltk\n",
        "from nltk.corpus import stopwords\n",
        "from nltk.stem import RSLPStemmer\n",
        "import spacy\n",
        "from sklearn.neighbors import KNeighborsClassifier\n",
        "from sklearn.metrics import classification_report, accuracy_score, f1_score, ConfusionMatrixDisplay\n",
        "from sklearn.svm import SVC\n",
        "from sklearn.tree import DecisionTreeClassifier\n",
        "from sklearn.ensemble import RandomForestClassifier\n",
        "from sklearn.cluster import KMeans\n",
        "from sklearn.naive_bayes import MultinomialNB\n",
        "import sklearn as sk\n",
        "import matplotlib.pyplot as plt\n",
        "\n",
        "nlp = spacy.load('en_core_web_sm')\n",
        "nltk.download('rslp')"
      ],
      "metadata": {
        "id": "P9kd6XHFbmzT",
        "colab": {
          "base_uri": "https://localhost:8080/"
        },
        "outputId": "12ae5394-3492-4697-de9a-5937320b9734"
      },
      "execution_count": null,
      "outputs": [
        {
          "output_type": "stream",
          "name": "stderr",
          "text": [
            "[nltk_data] Downloading package rslp to /root/nltk_data...\n",
            "[nltk_data]   Package rslp is already up-to-date!\n"
          ]
        },
        {
          "output_type": "execute_result",
          "data": {
            "text/plain": [
              "True"
            ]
          },
          "metadata": {},
          "execution_count": 31
        }
      ]
    },
    {
      "cell_type": "markdown",
      "source": [
        "# Dados"
      ],
      "metadata": {
        "id": "sncUYbGZboUt"
      }
    },
    {
      "cell_type": "code",
      "source": [
        "# url = 'https://docs.google.com/spreadsheets/d/1AZJ5QU8MwpLdtnYsmGpx4FaefXzB-RrhnG-ENoAK-n4/export?format=xlsx'\n",
        "url = 'https://docs.google.com/spreadsheets/d/1JXD4d24u7PKOnkHViyIW2ppyAXiv7GW9fJa4nFtyJKY/export?format=xlsx'\n",
        "data = pd.read_excel(url, engine='openpyxl')\n",
        "df = pd.DataFrame(data)"
      ],
      "metadata": {
        "id": "yeaDbeFV0SIk",
        "collapsed": true
      },
      "execution_count": null,
      "outputs": []
    },
    {
      "cell_type": "markdown",
      "source": [
        "# Analise Exploratória dos dados"
      ],
      "metadata": {
        "id": "eAEyttCSXl_5"
      }
    },
    {
      "cell_type": "markdown",
      "source": [
        "Verificação dos dados e tratamento."
      ],
      "metadata": {
        "id": "gAh3kbzabz4l"
      }
    },
    {
      "cell_type": "code",
      "source": [
        "# Verificação de dados nulos\n",
        "df.isna().sum()"
      ],
      "metadata": {
        "colab": {
          "base_uri": "https://localhost:8080/"
        },
        "id": "p56yK5y_Wmjg",
        "outputId": "38eaf478-856a-4543-a4f6-fa991657c787"
      },
      "execution_count": null,
      "outputs": [
        {
          "output_type": "execute_result",
          "data": {
            "text/plain": [
              "none          0\n",
              "none.1        0\n",
              "Sentiment     0\n",
              "Text         19\n",
              "dtype: int64"
            ]
          },
          "metadata": {},
          "execution_count": 7
        }
      ]
    },
    {
      "cell_type": "code",
      "source": [
        "# Remoção de linhas com dados nulos\n",
        "df = df[df['Text'].notna()]\n",
        "df.isna().sum()"
      ],
      "metadata": {
        "colab": {
          "base_uri": "https://localhost:8080/"
        },
        "id": "3RDS7OehZx2l",
        "outputId": "8b3ac836-8677-4d0f-be16-25e3c4a125ae"
      },
      "execution_count": null,
      "outputs": [
        {
          "output_type": "execute_result",
          "data": {
            "text/plain": [
              "none         0\n",
              "none.1       0\n",
              "Sentiment    0\n",
              "Text         0\n",
              "dtype: int64"
            ]
          },
          "metadata": {},
          "execution_count": 8
        }
      ]
    },
    {
      "cell_type": "code",
      "source": [
        "# Linhas onde o tipo de ['Text'] não é str\n",
        "for _, i in df.iterrows():\n",
        "    if type(i['Text']) != str:\n",
        "        print(i)"
      ],
      "metadata": {
        "collapsed": true,
        "id": "8osBDOwDevl7"
      },
      "execution_count": null,
      "outputs": []
    },
    {
      "cell_type": "code",
      "source": [
        "# Remove as linhas onde o tipo de ['Text'] não é str\n",
        "df = df[df['Text'].apply(lambda x: isinstance(x, str))]"
      ],
      "metadata": {
        "id": "CSs3yDb5fE0f"
      },
      "execution_count": null,
      "outputs": []
    },
    {
      "cell_type": "markdown",
      "source": [
        "Agora que os dados já estão tratados, vamos definir os dados de treinamento."
      ],
      "metadata": {
        "id": "cVj090Slcq33"
      }
    },
    {
      "cell_type": "code",
      "source": [
        "X_train, X_test, y_train, y_test = train_test_split(df['Text'], df['Sentiment'], test_size=0.2, random_state=42)"
      ],
      "metadata": {
        "id": "CEUOHqiedDR8"
      },
      "execution_count": null,
      "outputs": []
    },
    {
      "cell_type": "code",
      "source": [
        "# Verifica o tamanho do X_train e y_train para garantir que não haja divergência de valores\n",
        "print(f\"Tamanho de X_train: {len(X_train)}\")\n",
        "print(f\"Tamanho de y_train: {len(y_train)}\")"
      ],
      "metadata": {
        "colab": {
          "base_uri": "https://localhost:8080/"
        },
        "id": "ov9P7QJXdjt8",
        "outputId": "3d71da47-ed08-4a4e-cc82-db2d46fce93d"
      },
      "execution_count": null,
      "outputs": [
        {
          "output_type": "stream",
          "name": "stdout",
          "text": [
            "Tamanho de X_train: 2384\n",
            "Tamanho de y_train: 2384\n"
          ]
        }
      ]
    },
    {
      "cell_type": "markdown",
      "source": [
        "Visualização dos dados:"
      ],
      "metadata": {
        "id": "oFuG-tn-dFFh"
      }
    },
    {
      "cell_type": "code",
      "source": [
        "df.head()"
      ],
      "metadata": {
        "colab": {
          "base_uri": "https://localhost:8080/",
          "height": 206
        },
        "id": "T1RHCM0edQvT",
        "outputId": "65108e9b-8091-4c4a-9643-d13a9f6bb95a"
      },
      "execution_count": null,
      "outputs": [
        {
          "output_type": "execute_result",
          "data": {
            "text/plain": [
              "   none       none.1 Sentiment  \\\n",
              "0  2401  Borderlands  Positive   \n",
              "1  2401  Borderlands  Positive   \n",
              "2  2401  Borderlands  Positive   \n",
              "3  2401  Borderlands  Positive   \n",
              "4  2401  Borderlands  Positive   \n",
              "\n",
              "                                                Text  \n",
              "0  im getting on borderlands and i will murder yo...  \n",
              "1  I am coming to the borders and I will kill you...  \n",
              "2  im getting on borderlands and i will kill you ...  \n",
              "3  im coming on borderlands and i will murder you...  \n",
              "4  im getting on borderlands 2 and i will murder ...  "
            ],
            "text/html": [
              "\n",
              "  <div id=\"df-7b67d53f-3c0f-46c8-b8aa-e58769ff797c\" class=\"colab-df-container\">\n",
              "    <div>\n",
              "<style scoped>\n",
              "    .dataframe tbody tr th:only-of-type {\n",
              "        vertical-align: middle;\n",
              "    }\n",
              "\n",
              "    .dataframe tbody tr th {\n",
              "        vertical-align: top;\n",
              "    }\n",
              "\n",
              "    .dataframe thead th {\n",
              "        text-align: right;\n",
              "    }\n",
              "</style>\n",
              "<table border=\"1\" class=\"dataframe\">\n",
              "  <thead>\n",
              "    <tr style=\"text-align: right;\">\n",
              "      <th></th>\n",
              "      <th>none</th>\n",
              "      <th>none.1</th>\n",
              "      <th>Sentiment</th>\n",
              "      <th>Text</th>\n",
              "    </tr>\n",
              "  </thead>\n",
              "  <tbody>\n",
              "    <tr>\n",
              "      <th>0</th>\n",
              "      <td>2401</td>\n",
              "      <td>Borderlands</td>\n",
              "      <td>Positive</td>\n",
              "      <td>im getting on borderlands and i will murder yo...</td>\n",
              "    </tr>\n",
              "    <tr>\n",
              "      <th>1</th>\n",
              "      <td>2401</td>\n",
              "      <td>Borderlands</td>\n",
              "      <td>Positive</td>\n",
              "      <td>I am coming to the borders and I will kill you...</td>\n",
              "    </tr>\n",
              "    <tr>\n",
              "      <th>2</th>\n",
              "      <td>2401</td>\n",
              "      <td>Borderlands</td>\n",
              "      <td>Positive</td>\n",
              "      <td>im getting on borderlands and i will kill you ...</td>\n",
              "    </tr>\n",
              "    <tr>\n",
              "      <th>3</th>\n",
              "      <td>2401</td>\n",
              "      <td>Borderlands</td>\n",
              "      <td>Positive</td>\n",
              "      <td>im coming on borderlands and i will murder you...</td>\n",
              "    </tr>\n",
              "    <tr>\n",
              "      <th>4</th>\n",
              "      <td>2401</td>\n",
              "      <td>Borderlands</td>\n",
              "      <td>Positive</td>\n",
              "      <td>im getting on borderlands 2 and i will murder ...</td>\n",
              "    </tr>\n",
              "  </tbody>\n",
              "</table>\n",
              "</div>\n",
              "    <div class=\"colab-df-buttons\">\n",
              "\n",
              "  <div class=\"colab-df-container\">\n",
              "    <button class=\"colab-df-convert\" onclick=\"convertToInteractive('df-7b67d53f-3c0f-46c8-b8aa-e58769ff797c')\"\n",
              "            title=\"Convert this dataframe to an interactive table.\"\n",
              "            style=\"display:none;\">\n",
              "\n",
              "  <svg xmlns=\"http://www.w3.org/2000/svg\" height=\"24px\" viewBox=\"0 -960 960 960\">\n",
              "    <path d=\"M120-120v-720h720v720H120Zm60-500h600v-160H180v160Zm220 220h160v-160H400v160Zm0 220h160v-160H400v160ZM180-400h160v-160H180v160Zm440 0h160v-160H620v160ZM180-180h160v-160H180v160Zm440 0h160v-160H620v160Z\"/>\n",
              "  </svg>\n",
              "    </button>\n",
              "\n",
              "  <style>\n",
              "    .colab-df-container {\n",
              "      display:flex;\n",
              "      gap: 12px;\n",
              "    }\n",
              "\n",
              "    .colab-df-convert {\n",
              "      background-color: #E8F0FE;\n",
              "      border: none;\n",
              "      border-radius: 50%;\n",
              "      cursor: pointer;\n",
              "      display: none;\n",
              "      fill: #1967D2;\n",
              "      height: 32px;\n",
              "      padding: 0 0 0 0;\n",
              "      width: 32px;\n",
              "    }\n",
              "\n",
              "    .colab-df-convert:hover {\n",
              "      background-color: #E2EBFA;\n",
              "      box-shadow: 0px 1px 2px rgba(60, 64, 67, 0.3), 0px 1px 3px 1px rgba(60, 64, 67, 0.15);\n",
              "      fill: #174EA6;\n",
              "    }\n",
              "\n",
              "    .colab-df-buttons div {\n",
              "      margin-bottom: 4px;\n",
              "    }\n",
              "\n",
              "    [theme=dark] .colab-df-convert {\n",
              "      background-color: #3B4455;\n",
              "      fill: #D2E3FC;\n",
              "    }\n",
              "\n",
              "    [theme=dark] .colab-df-convert:hover {\n",
              "      background-color: #434B5C;\n",
              "      box-shadow: 0px 1px 3px 1px rgba(0, 0, 0, 0.15);\n",
              "      filter: drop-shadow(0px 1px 2px rgba(0, 0, 0, 0.3));\n",
              "      fill: #FFFFFF;\n",
              "    }\n",
              "  </style>\n",
              "\n",
              "    <script>\n",
              "      const buttonEl =\n",
              "        document.querySelector('#df-7b67d53f-3c0f-46c8-b8aa-e58769ff797c button.colab-df-convert');\n",
              "      buttonEl.style.display =\n",
              "        google.colab.kernel.accessAllowed ? 'block' : 'none';\n",
              "\n",
              "      async function convertToInteractive(key) {\n",
              "        const element = document.querySelector('#df-7b67d53f-3c0f-46c8-b8aa-e58769ff797c');\n",
              "        const dataTable =\n",
              "          await google.colab.kernel.invokeFunction('convertToInteractive',\n",
              "                                                    [key], {});\n",
              "        if (!dataTable) return;\n",
              "\n",
              "        const docLinkHtml = 'Like what you see? Visit the ' +\n",
              "          '<a target=\"_blank\" href=https://colab.research.google.com/notebooks/data_table.ipynb>data table notebook</a>'\n",
              "          + ' to learn more about interactive tables.';\n",
              "        element.innerHTML = '';\n",
              "        dataTable['output_type'] = 'display_data';\n",
              "        await google.colab.output.renderOutput(dataTable, element);\n",
              "        const docLink = document.createElement('div');\n",
              "        docLink.innerHTML = docLinkHtml;\n",
              "        element.appendChild(docLink);\n",
              "      }\n",
              "    </script>\n",
              "  </div>\n",
              "\n",
              "\n",
              "<div id=\"df-2d3a90d6-e0f9-40fd-b2ce-2f6ce12be443\">\n",
              "  <button class=\"colab-df-quickchart\" onclick=\"quickchart('df-2d3a90d6-e0f9-40fd-b2ce-2f6ce12be443')\"\n",
              "            title=\"Suggest charts\"\n",
              "            style=\"display:none;\">\n",
              "\n",
              "<svg xmlns=\"http://www.w3.org/2000/svg\" height=\"24px\"viewBox=\"0 0 24 24\"\n",
              "     width=\"24px\">\n",
              "    <g>\n",
              "        <path d=\"M19 3H5c-1.1 0-2 .9-2 2v14c0 1.1.9 2 2 2h14c1.1 0 2-.9 2-2V5c0-1.1-.9-2-2-2zM9 17H7v-7h2v7zm4 0h-2V7h2v10zm4 0h-2v-4h2v4z\"/>\n",
              "    </g>\n",
              "</svg>\n",
              "  </button>\n",
              "\n",
              "<style>\n",
              "  .colab-df-quickchart {\n",
              "      --bg-color: #E8F0FE;\n",
              "      --fill-color: #1967D2;\n",
              "      --hover-bg-color: #E2EBFA;\n",
              "      --hover-fill-color: #174EA6;\n",
              "      --disabled-fill-color: #AAA;\n",
              "      --disabled-bg-color: #DDD;\n",
              "  }\n",
              "\n",
              "  [theme=dark] .colab-df-quickchart {\n",
              "      --bg-color: #3B4455;\n",
              "      --fill-color: #D2E3FC;\n",
              "      --hover-bg-color: #434B5C;\n",
              "      --hover-fill-color: #FFFFFF;\n",
              "      --disabled-bg-color: #3B4455;\n",
              "      --disabled-fill-color: #666;\n",
              "  }\n",
              "\n",
              "  .colab-df-quickchart {\n",
              "    background-color: var(--bg-color);\n",
              "    border: none;\n",
              "    border-radius: 50%;\n",
              "    cursor: pointer;\n",
              "    display: none;\n",
              "    fill: var(--fill-color);\n",
              "    height: 32px;\n",
              "    padding: 0;\n",
              "    width: 32px;\n",
              "  }\n",
              "\n",
              "  .colab-df-quickchart:hover {\n",
              "    background-color: var(--hover-bg-color);\n",
              "    box-shadow: 0 1px 2px rgba(60, 64, 67, 0.3), 0 1px 3px 1px rgba(60, 64, 67, 0.15);\n",
              "    fill: var(--button-hover-fill-color);\n",
              "  }\n",
              "\n",
              "  .colab-df-quickchart-complete:disabled,\n",
              "  .colab-df-quickchart-complete:disabled:hover {\n",
              "    background-color: var(--disabled-bg-color);\n",
              "    fill: var(--disabled-fill-color);\n",
              "    box-shadow: none;\n",
              "  }\n",
              "\n",
              "  .colab-df-spinner {\n",
              "    border: 2px solid var(--fill-color);\n",
              "    border-color: transparent;\n",
              "    border-bottom-color: var(--fill-color);\n",
              "    animation:\n",
              "      spin 1s steps(1) infinite;\n",
              "  }\n",
              "\n",
              "  @keyframes spin {\n",
              "    0% {\n",
              "      border-color: transparent;\n",
              "      border-bottom-color: var(--fill-color);\n",
              "      border-left-color: var(--fill-color);\n",
              "    }\n",
              "    20% {\n",
              "      border-color: transparent;\n",
              "      border-left-color: var(--fill-color);\n",
              "      border-top-color: var(--fill-color);\n",
              "    }\n",
              "    30% {\n",
              "      border-color: transparent;\n",
              "      border-left-color: var(--fill-color);\n",
              "      border-top-color: var(--fill-color);\n",
              "      border-right-color: var(--fill-color);\n",
              "    }\n",
              "    40% {\n",
              "      border-color: transparent;\n",
              "      border-right-color: var(--fill-color);\n",
              "      border-top-color: var(--fill-color);\n",
              "    }\n",
              "    60% {\n",
              "      border-color: transparent;\n",
              "      border-right-color: var(--fill-color);\n",
              "    }\n",
              "    80% {\n",
              "      border-color: transparent;\n",
              "      border-right-color: var(--fill-color);\n",
              "      border-bottom-color: var(--fill-color);\n",
              "    }\n",
              "    90% {\n",
              "      border-color: transparent;\n",
              "      border-bottom-color: var(--fill-color);\n",
              "    }\n",
              "  }\n",
              "</style>\n",
              "\n",
              "  <script>\n",
              "    async function quickchart(key) {\n",
              "      const quickchartButtonEl =\n",
              "        document.querySelector('#' + key + ' button');\n",
              "      quickchartButtonEl.disabled = true;  // To prevent multiple clicks.\n",
              "      quickchartButtonEl.classList.add('colab-df-spinner');\n",
              "      try {\n",
              "        const charts = await google.colab.kernel.invokeFunction(\n",
              "            'suggestCharts', [key], {});\n",
              "      } catch (error) {\n",
              "        console.error('Error during call to suggestCharts:', error);\n",
              "      }\n",
              "      quickchartButtonEl.classList.remove('colab-df-spinner');\n",
              "      quickchartButtonEl.classList.add('colab-df-quickchart-complete');\n",
              "    }\n",
              "    (() => {\n",
              "      let quickchartButtonEl =\n",
              "        document.querySelector('#df-2d3a90d6-e0f9-40fd-b2ce-2f6ce12be443 button');\n",
              "      quickchartButtonEl.style.display =\n",
              "        google.colab.kernel.accessAllowed ? 'block' : 'none';\n",
              "    })();\n",
              "  </script>\n",
              "</div>\n",
              "\n",
              "    </div>\n",
              "  </div>\n"
            ],
            "application/vnd.google.colaboratory.intrinsic+json": {
              "type": "dataframe",
              "variable_name": "df",
              "summary": "{\n  \"name\": \"df\",\n  \"rows\": 2980,\n  \"fields\": [\n    {\n      \"column\": \"none\",\n      \"properties\": {\n        \"dtype\": \"number\",\n        \"std\": 411,\n        \"min\": 1601,\n        \"max\": 2800,\n        \"num_unique_values\": 500,\n        \"samples\": [\n          2780,\n          2474,\n          2794\n        ],\n        \"semantic_type\": \"\",\n        \"description\": \"\"\n      }\n    },\n    {\n      \"column\": \"none.1\",\n      \"properties\": {\n        \"dtype\": \"category\",\n        \"num_unique_values\": 2,\n        \"samples\": [\n          \"CallOfDutyBlackopsColdWar\",\n          \"Borderlands\"\n        ],\n        \"semantic_type\": \"\",\n        \"description\": \"\"\n      }\n    },\n    {\n      \"column\": \"Sentiment\",\n      \"properties\": {\n        \"dtype\": \"category\",\n        \"num_unique_values\": 4,\n        \"samples\": [\n          \"Neutral\",\n          \"Irrelevant\"\n        ],\n        \"semantic_type\": \"\",\n        \"description\": \"\"\n      }\n    },\n    {\n      \"column\": \"Text\",\n      \"properties\": {\n        \"dtype\": \"string\",\n        \"num_unique_values\": 2832,\n        \"samples\": [\n          \"You can\\u2019t say this and it be shit my guy\",\n          \"cant wait to cum all over a player with the gamertag \\u2018jamescharles\\u2019\"\n        ],\n        \"semantic_type\": \"\",\n        \"description\": \"\"\n      }\n    }\n  ]\n}"
            }
          },
          "metadata": {},
          "execution_count": 45
        }
      ]
    },
    {
      "cell_type": "code",
      "source": [
        "lista = data['Sentiment'].unique()\n",
        "lista2 = []\n",
        "\n",
        "# Itera em cada linha para obter a quanidade de textos pra cada sentimento\n",
        "for i in data['Sentiment'].unique():\n",
        "    count = 0\n",
        "    for _, row in data.iterrows():\n",
        "        if row['Sentiment'] == i:\n",
        "            count += 1\n",
        "    print(f\"SENTIMENTO {i}: {count}\")\n",
        "    lista2.append(count)"
      ],
      "metadata": {
        "colab": {
          "base_uri": "https://localhost:8080/"
        },
        "id": "xk9RWiFUbwLO",
        "outputId": "1847e6e6-7234-4614-9f6d-08de76624477"
      },
      "execution_count": null,
      "outputs": [
        {
          "output_type": "stream",
          "name": "stdout",
          "text": [
            "SENTIMENTO Positive: 1235\n",
            "SENTIMENTO Neutral: 714\n",
            "SENTIMENTO Negative: 606\n",
            "SENTIMENTO Irrelevant: 444\n"
          ]
        }
      ]
    },
    {
      "cell_type": "markdown",
      "source": [
        "Através da figura abaixo, podemos visualizar que os dados estão balanceados."
      ],
      "metadata": {
        "id": "qL7Eojukd12w"
      }
    },
    {
      "cell_type": "code",
      "source": [
        "fig, ax = plt.subplots()\n",
        "ax.pie(lista2, labels=lista)\n",
        "ax.set_title('Distribuição de Sentimentos')\n",
        "plt.show()"
      ],
      "metadata": {
        "colab": {
          "base_uri": "https://localhost:8080/",
          "height": 428
        },
        "id": "krWavQEcJspJ",
        "outputId": "b3e8f2ef-8f7a-4a11-8079-d15ea3f0c6bc"
      },
      "execution_count": null,
      "outputs": [
        {
          "output_type": "display_data",
          "data": {
            "text/plain": [
              "<Figure size 640x480 with 1 Axes>"
            ],
            "image/png": "[encoded data removed]"
          },
          "metadata": {}
        }
      ]
    },
    {
      "cell_type": "markdown",
      "source": [
        "# Pré-processamento dos dados"
      ],
      "metadata": {
        "id": "KNowv9vPs55p"
      }
    },
    {
      "cell_type": "code",
      "source": [
        "\n",
        "print(f'Teste 1: {len(X_train)}')\n",
        "print(f'Teste 1: {len(y_train)}')\n",
        "\n",
        "# Remoção de números, caracteres especiais e conversão para minúscula\n",
        "X_train_clear = [re.sub(r'[^a-zA-Z\\s]', '', text).lower() for text in X_train]\n",
        "X_test_clear = [re.sub(r'[^a-zA-Z\\s]', '', text).lower() for text in X_test]\n",
        "\n",
        "print(f'Teste 2: {len(X_train_clear)}')\n",
        "print(f'Teste 2: {len(y_train)}')\n",
        "\n",
        "# Tokenização\n",
        "X_train_tk = [phrase.split() for phrase in X_train_clear]\n",
        "X_test_tk = [phrase.split() for phrase in X_test_clear]\n",
        "\n",
        "print(f'Teste 3: {len(X_train_tk)}')\n",
        "print(f'Teste 3: {len(y_train)}')\n",
        "\n",
        "# Remoção de Stop Words\n",
        "nltk.download('stopwords')\n",
        "stop_words = set(stopwords.words('english'))\n",
        "X_train_sw = [[word for word in phrase if word not in stop_words] for phrase in X_train_tk]\n",
        "X_test_sw = [[word for word in phrase if word not in stop_words] for phrase in X_test_tk]\n",
        "\n",
        "print(f'Teste 4: {len(X_train_sw)}')\n",
        "print(f'Teste 4: {len(y_train)}')\n",
        "\n",
        "# Stemização\n",
        "stemmer = RSLPStemmer()\n",
        "X_train_sm = [[stemmer.stem(word) for word in phrase] for phrase in X_train_sw]\n",
        "X_test_sm = [[stemmer.stem(word) for word in phrase] for phrase in X_test_sw]\n",
        "\n",
        "print(f'Teste 5: {len(X_train_sm)}')\n",
        "print(f'Teste 5: {len(y_train)}')\n",
        "\n",
        "# Lematização com correção para minúsculas\n",
        "\n",
        "X_train_lm = [' '.join([token.lemma_.lower() for token in nlp(' '.join(phrase))]) for phrase in X_train_sm]\n",
        "X_test_lm = [' '.join([token.lemma_.lower() for token in nlp(' '.join(phrase))]) for phrase in X_test_sm]\n",
        "\n",
        "\n",
        "print(f'Teste 6: {len(X_train_lm)}')\n",
        "print(f'Teste 6: {len(y_train)}')\n",
        "\n"
      ],
      "metadata": {
        "colab": {
          "base_uri": "https://localhost:8080/"
        },
        "collapsed": true,
        "id": "l1yIKWlSk8ID",
        "outputId": "98c55490-c059-4242-8100-5e55e57dc1f8"
      },
      "execution_count": null,
      "outputs": [
        {
          "output_type": "stream",
          "name": "stdout",
          "text": [
            "Teste 1: 2384\n",
            "Teste 1: 2384\n",
            "Teste 2: 2384\n",
            "Teste 2: 2384\n",
            "Teste 3: 2384\n",
            "Teste 3: 2384\n"
          ]
        },
        {
          "output_type": "stream",
          "name": "stderr",
          "text": [
            "[nltk_data] Downloading package stopwords to /root/nltk_data...\n",
            "[nltk_data]   Unzipping corpora/stopwords.zip.\n"
          ]
        },
        {
          "output_type": "stream",
          "name": "stdout",
          "text": [
            "Teste 4: 2384\n",
            "Teste 4: 2384\n",
            "Teste 5: 2384\n",
            "Teste 5: 2384\n",
            "Teste 6: 2384\n",
            "Teste 6: 2384\n"
          ]
        }
      ]
    },
    {
      "cell_type": "markdown",
      "source": [
        "# **k-NN + TF-IDF**"
      ],
      "metadata": {
        "id": "YFmC_4xSZ9VG"
      }
    },
    {
      "cell_type": "markdown",
      "source": [
        "Vetorização através do TF-IDF"
      ],
      "metadata": {
        "id": "fXUZMirraPjw"
      }
    },
    {
      "cell_type": "code",
      "source": [
        "vectorizer = TfidfVectorizer()\n",
        "X_train_vec = vectorizer.fit_transform(X_train_lm)\n",
        "X_test_vec = vectorizer.transform(X_test_lm)"
      ],
      "metadata": {
        "id": "_rSboV2yZ85C"
      },
      "execution_count": null,
      "outputs": []
    },
    {
      "cell_type": "markdown",
      "source": [
        "Implementação do k-NN"
      ],
      "metadata": {
        "id": "AIZE3iv2aVgQ"
      }
    },
    {
      "cell_type": "code",
      "source": [
        "# Definição do classificador k-NN\n",
        "knn = KNeighborsClassifier(n_neighbors=5)\n",
        "\n",
        "# Treinamento do modelo\n",
        "knn.fit(X_train_vec, y_train)\n",
        "\n",
        "# Predição\n",
        "y_pred = knn.predict(X_test_vec)\n",
        "\n",
        "# Resultados\n",
        "knn_tfidf = (y_test, y_pred)"
      ],
      "metadata": {
        "id": "a9o2kPl4aZAL"
      },
      "execution_count": null,
      "outputs": []
    },
    {
      "cell_type": "markdown",
      "source": [
        "# **k-NN + BoW**\n"
      ],
      "metadata": {
        "id": "AdeMNjhTaaaY"
      }
    },
    {
      "cell_type": "markdown",
      "source": [
        "Vetorização através do BoW"
      ],
      "metadata": {
        "id": "BXFYPdNNafsg"
      }
    },
    {
      "cell_type": "code",
      "source": [
        "vectorizer = CountVectorizer()\n",
        "X_train_vec = vectorizer.fit_transform(X_train_lm)\n",
        "X_test_vec = vectorizer.transform(X_test_lm)"
      ],
      "metadata": {
        "id": "051MgfJfahS9"
      },
      "execution_count": null,
      "outputs": []
    },
    {
      "cell_type": "markdown",
      "source": [
        "Implementação do k-NN"
      ],
      "metadata": {
        "id": "ihkVEIAFa5oF"
      }
    },
    {
      "cell_type": "code",
      "source": [
        "# Definição do classificador k-NN\n",
        "knn = KNeighborsClassifier(n_neighbors=5)\n",
        "\n",
        "# Treinamento do modelo\n",
        "knn.fit(X_train_vec, y_train)\n",
        "\n",
        "# Predição\n",
        "y_pred = knn.predict(X_test_vec)\n",
        "\n",
        "# Resultados\n",
        "knn_bow = (y_test, y_pred)"
      ],
      "metadata": {
        "id": "2LgSO90dbBUG"
      },
      "execution_count": null,
      "outputs": []
    },
    {
      "cell_type": "markdown",
      "source": [
        "# **Árvore de decisão + TF-IDF**"
      ],
      "metadata": {
        "id": "tSoQqT1lbHx3"
      }
    },
    {
      "cell_type": "markdown",
      "source": [
        "Vetorização através do TF-IDF"
      ],
      "metadata": {
        "id": "qxVkP1gwcx_o"
      }
    },
    {
      "cell_type": "code",
      "source": [
        "vectorizer = TfidfVectorizer()\n",
        "X_train_vec = vectorizer.fit_transform(X_train_lm)\n",
        "X_test_vec = vectorizer.transform(X_test_lm)"
      ],
      "metadata": {
        "id": "F1BVAnqac1BL"
      },
      "execution_count": null,
      "outputs": []
    },
    {
      "cell_type": "markdown",
      "source": [
        "Implentação da árvore de decisão"
      ],
      "metadata": {
        "id": "Xe5TBNltc41Z"
      }
    },
    {
      "cell_type": "code",
      "source": [
        "# Definição do classificador Árvore de decisão\n",
        "tree = DecisionTreeClassifier()\n",
        "\n",
        "# Treinamento do modelo\n",
        "tree.fit(X_train_vec, y_train)\n",
        "\n",
        "# Predição\n",
        "y_pred = tree.predict(X_test_vec)\n",
        "\n",
        "# Resultados\n",
        "tree_tfidf = (y_test, y_pred)"
      ],
      "metadata": {
        "id": "GpFh5yKuc4Qg"
      },
      "execution_count": null,
      "outputs": []
    },
    {
      "cell_type": "markdown",
      "source": [
        "# **Árvore de decisão + BoW**"
      ],
      "metadata": {
        "id": "-c9ONZfreAdc"
      }
    },
    {
      "cell_type": "markdown",
      "source": [
        "Vetorização através do BoW"
      ],
      "metadata": {
        "id": "Yjt6KWvLeDfr"
      }
    },
    {
      "cell_type": "code",
      "source": [
        "vectorizer = CountVectorizer()\n",
        "X_train_vec = vectorizer.fit_transform(X_train_lm)\n",
        "X_test_vec = vectorizer.transform(X_test_lm)"
      ],
      "metadata": {
        "id": "ta5yZcDzeGs4"
      },
      "execution_count": null,
      "outputs": []
    },
    {
      "cell_type": "markdown",
      "source": [
        "Implementação da árvore de decisão"
      ],
      "metadata": {
        "id": "p3UedqeqeLgc"
      }
    },
    {
      "cell_type": "code",
      "source": [
        "# Definição do classificador Árvore de decisão\n",
        "tree = DecisionTreeClassifier()\n",
        "\n",
        "# Treinamento do modelo\n",
        "tree.fit(X_train_vec, y_train)\n",
        "\n",
        "# Predição\n",
        "y_pred = tree.predict(X_test_vec)\n",
        "\n",
        "# Resultados\n",
        "tree_bow = (y_test, y_pred)"
      ],
      "metadata": {
        "id": "4fMf4zIpeQiX"
      },
      "execution_count": null,
      "outputs": []
    },
    {
      "cell_type": "markdown",
      "source": [
        "# **SVM + TF-IDF**"
      ],
      "metadata": {
        "id": "2uSD5xy7ilD4"
      }
    },
    {
      "cell_type": "markdown",
      "source": [
        "Vetorização através do TF-IDF"
      ],
      "metadata": {
        "id": "UPupOTlsi5pI"
      }
    },
    {
      "cell_type": "code",
      "source": [
        "vectorizer = TfidfVectorizer()\n",
        "X_train_vec = vectorizer.fit_transform(X_train_lm)\n",
        "X_test_vec = vectorizer.transform(X_test_lm)"
      ],
      "metadata": {
        "id": "500PeoTjiv1P"
      },
      "execution_count": null,
      "outputs": []
    },
    {
      "cell_type": "markdown",
      "source": [
        "Implementação do SVM"
      ],
      "metadata": {
        "id": "ypBhPvnujCWt"
      }
    },
    {
      "cell_type": "code",
      "source": [
        "# Definição do classificador SVM\n",
        "svm = SVC()\n",
        "\n",
        "# Treinamento do modelo\n",
        "svm.fit(X_train_vec, y_train)\n",
        "\n",
        "# Predição\n",
        "y_pred = svm.predict(X_test_vec)\n",
        "\n",
        "# Resultados\n",
        "svm_tfidf = (y_test, y_pred)"
      ],
      "metadata": {
        "id": "e_VIB5swjJ8F"
      },
      "execution_count": null,
      "outputs": []
    },
    {
      "cell_type": "markdown",
      "source": [
        "# **SVM + BoW**"
      ],
      "metadata": {
        "id": "UPB5jy0pizyo"
      }
    },
    {
      "cell_type": "markdown",
      "source": [
        "Vetorização através do BoW"
      ],
      "metadata": {
        "id": "DnhRnavFi9Mz"
      }
    },
    {
      "cell_type": "code",
      "source": [
        "vectorizer = CountVectorizer()\n",
        "X_train_vec = vectorizer.fit_transform(X_train_lm)\n",
        "X_test_vec = vectorizer.transform(X_test_lm)"
      ],
      "metadata": {
        "id": "Ef-dodz9ixVa"
      },
      "execution_count": null,
      "outputs": []
    },
    {
      "cell_type": "markdown",
      "source": [
        "Implementação do SVM"
      ],
      "metadata": {
        "id": "wYhKqPsai_mq"
      }
    },
    {
      "cell_type": "code",
      "source": [
        "# Definição do classificador SVM\n",
        "svm = SVC()\n",
        "\n",
        "# Treinamento do modelo\n",
        "svm.fit(X_train_vec, y_train)\n",
        "\n",
        "# Predição\n",
        "y_pred = svm.predict(X_test_vec)\n",
        "\n",
        "# Resultados\n",
        "svm_bow = (y_test, y_pred)"
      ],
      "metadata": {
        "id": "4SVHXgj3jh21"
      },
      "execution_count": null,
      "outputs": []
    },
    {
      "cell_type": "markdown",
      "source": [
        "# **Naive Bayes + TF-IDF**\n"
      ],
      "metadata": {
        "id": "x4kxlDTMkJfJ"
      }
    },
    {
      "cell_type": "code",
      "source": [
        "vectorizer = TfidfVectorizer()\n",
        "X_train_vec = vectorizer.fit_transform(X_train_lm)\n",
        "X_test_vec = vectorizer.transform(X_test_lm)"
      ],
      "metadata": {
        "id": "xi9KxOKEkVfA"
      },
      "execution_count": null,
      "outputs": []
    },
    {
      "cell_type": "markdown",
      "source": [
        "Implementação do Naive Bayes"
      ],
      "metadata": {
        "id": "sxyoUTwQkZla"
      }
    },
    {
      "cell_type": "code",
      "source": [
        "# Definição do classificador Naive Bayes\n",
        "nb = MultinomialNB()\n",
        "\n",
        "# Treinamento do modelo\n",
        "nb.fit(X_train_vec, y_train)\n",
        "\n",
        "# Predição\n",
        "y_pred = nb.predict(X_test_vec)\n",
        "\n",
        "# Resultados\n",
        "nb_tfidf = (y_test, y_pred)"
      ],
      "metadata": {
        "id": "_WJVmj08keZo"
      },
      "execution_count": null,
      "outputs": []
    },
    {
      "cell_type": "markdown",
      "source": [
        "# **Naive Bayes + BoW**\n"
      ],
      "metadata": {
        "id": "uhO1VH4VkXC5"
      }
    },
    {
      "cell_type": "code",
      "source": [
        "vectorizer = CountVectorizer()\n",
        "X_train_vec = vectorizer.fit_transform(X_train_lm)\n",
        "X_test_vec = vectorizer.transform(X_test_lm)"
      ],
      "metadata": {
        "id": "tfnk-uOFkTdc"
      },
      "execution_count": null,
      "outputs": []
    },
    {
      "cell_type": "markdown",
      "source": [
        "Implementação do Naive Bayes"
      ],
      "metadata": {
        "id": "V4hYtPp9knqx"
      }
    },
    {
      "cell_type": "code",
      "source": [
        "# Definição do classificador Naive Bayes\n",
        "nb = MultinomialNB()\n",
        "\n",
        "# Treinamento do modelo\n",
        "nb.fit(X_train_vec, y_train)\n",
        "\n",
        "# Predição\n",
        "y_pred = nb.predict(X_test_vec)\n",
        "\n",
        "# Resultados\n",
        "nb_bow = (y_test, y_pred)"
      ],
      "metadata": {
        "id": "Q4oYJtSkkpcy"
      },
      "execution_count": null,
      "outputs": []
    },
    {
      "cell_type": "markdown",
      "source": [
        "# **Random Forest + TF-IDF**\n"
      ],
      "metadata": {
        "id": "yrutDpJzlAAk"
      }
    },
    {
      "cell_type": "markdown",
      "source": [
        "Vetorização através do TF-IDF"
      ],
      "metadata": {
        "id": "k_OLE7VilGO0"
      }
    },
    {
      "cell_type": "code",
      "source": [
        "vectorizer = TfidfVectorizer()\n",
        "X_train_vec = vectorizer.fit_transform(X_train_lm)\n",
        "X_test_vec = vectorizer.transform(X_test_lm)"
      ],
      "metadata": {
        "id": "GS6zRD_KlEIW"
      },
      "execution_count": null,
      "outputs": []
    },
    {
      "cell_type": "markdown",
      "source": [
        "Implementação do Random Forest"
      ],
      "metadata": {
        "id": "SJAPa17olLg2"
      }
    },
    {
      "cell_type": "code",
      "source": [
        "# Definição do classificador Random Forest\n",
        "rf = RandomForestClassifier()\n",
        "\n",
        "# Treinamento do modelo\n",
        "rf.fit(X_train_vec, y_train)\n",
        "\n",
        "# Predição\n",
        "y_pred = rf.predict(X_test_vec)\n",
        "\n",
        "# Resultados\n",
        "rf_tfidf = (y_test, y_pred)"
      ],
      "metadata": {
        "id": "sVQ_BD0qlNQU"
      },
      "execution_count": null,
      "outputs": []
    },
    {
      "cell_type": "markdown",
      "source": [
        "# **Random Forest + BoW**\n"
      ],
      "metadata": {
        "id": "k7kFhOU-F7nb"
      }
    },
    {
      "cell_type": "markdown",
      "source": [
        "Vetorização através do BoW"
      ],
      "metadata": {
        "id": "iTqDtwf7lI-Y"
      }
    },
    {
      "cell_type": "code",
      "source": [
        "vectorizer = CountVectorizer()\n",
        "X_train_vec = vectorizer.fit_transform(X_train_lm)\n",
        "X_test_vec = vectorizer.transform(X_test_lm)"
      ],
      "metadata": {
        "id": "ISbYbmBdlFc8"
      },
      "execution_count": null,
      "outputs": []
    },
    {
      "cell_type": "markdown",
      "source": [
        "Implementação do Random Forest"
      ],
      "metadata": {
        "id": "08MGoHFGllsn"
      }
    },
    {
      "cell_type": "code",
      "source": [
        "# Definição do classificador Random Forest\n",
        "rf = RandomForestClassifier()\n",
        "\n",
        "# Treinamento do modelo\n",
        "rf.fit(X_train_vec, y_train)\n",
        "\n",
        "# Predição\n",
        "y_pred = rf.predict(X_test_vec)\n",
        "\n",
        "# Resultados\n",
        "rf_bow = (y_test, y_pred)"
      ],
      "metadata": {
        "id": "AnZdSXLilXbs"
      },
      "execution_count": null,
      "outputs": []
    },
    {
      "cell_type": "markdown",
      "source": [
        "# **Resultados**\n"
      ],
      "metadata": {
        "id": "WvrzWQIuF_My"
      }
    },
    {
      "cell_type": "code",
      "source": [
        "# Dicionario com todos os resultados\n",
        "results = {\"k-NN - TF-IDF\": knn_tfidf, \"k-NN - BoW\": knn_bow, \"Árvore de decisão - TF-IDF\": tree_tfidf, \"Árvore de decisão - BoW\": tree_bow,\n",
        "           \"SVM - TF-IDF\": svm_tfidf, \"SVM - BoW\": svm_bow, \"Naive Bayes - TF-IDF\": nb_tfidf, \"Naive Bayes - BoW\": nb_bow,\n",
        "           \"Random Forest - TF-IDF\": rf_tfidf, \"Random Forest - BoW\": rf_bow}\n",
        "\n",
        "tfidf = {\"k-NN - TF-IDF\": knn_tfidf, \"Árvore de decisão - TF-IDF\": tree_tfidf, \"SVM - TF-IDF\": svm_tfidf,\n",
        "         \"Naive Bayes - TF-IDF\": nb_tfidf, \"Random Forest - TF-IDF\": rf_tfidf}\n",
        "\n",
        "bow = {\"k-NN - BoW\": knn_bow, \"Árvore de decisão - BoW\": tree_bow, \"SVM - BoW\": svm_bow,\n",
        "       \"Naive Bayes - BoW\": nb_bow, \"Random Forest - BoW\": rf_bow}"
      ],
      "metadata": {
        "collapsed": true,
        "id": "oyz_PjHVGC7m"
      },
      "execution_count": null,
      "outputs": []
    },
    {
      "cell_type": "code",
      "source": [
        "print(\"======== RESULTADO GERAL ========\")\n",
        "accuracy_main = []\n",
        "print()\n",
        "for i in results:\n",
        "    print(f'{i}:')\n",
        "    acc = accuracy_score(results[i][0], results[i][1])\n",
        "    accuracy_main.append(acc)\n",
        "    print(f\"Acurácia: {acc:.2f}\")\n",
        "    print('----------------------------------')"
      ],
      "metadata": {
        "colab": {
          "base_uri": "https://localhost:8080/"
        },
        "collapsed": true,
        "id": "AekL0-3yIQRX",
        "outputId": "5929c402-83cc-4ab1-e529-eb4a4e5b199d"
      },
      "execution_count": null,
      "outputs": [
        {
          "output_type": "stream",
          "name": "stdout",
          "text": [
            "======== RESULTADO GERAL ========\n",
            "\n",
            "k-NN - TF-IDF:\n",
            "Acurácia: 0.91\n",
            "----------------------------------\n",
            "k-NN - BoW:\n",
            "Acurácia: 0.81\n",
            "----------------------------------\n",
            "Árvore de decisão - TF-IDF:\n",
            "Acurácia: 0.80\n",
            "----------------------------------\n",
            "Árvore de decisão - BoW:\n",
            "Acurácia: 0.83\n",
            "----------------------------------\n",
            "SVM - TF-IDF:\n",
            "Acurácia: 0.95\n",
            "----------------------------------\n",
            "SVM - BoW:\n",
            "Acurácia: 0.89\n",
            "----------------------------------\n",
            "Naive Bayes - TF-IDF:\n",
            "Acurácia: 0.81\n",
            "----------------------------------\n",
            "Naive Bayes - BoW:\n",
            "Acurácia: 0.87\n",
            "----------------------------------\n",
            "Random Forest - TF-IDF:\n",
            "Acurácia: 0.94\n",
            "----------------------------------\n",
            "Random Forest - BoW:\n",
            "Acurácia: 0.93\n",
            "----------------------------------\n"
          ]
        }
      ]
    },
    {
      "cell_type": "code",
      "source": [
        "print(\"======== RESULTADO TF-IDF ========\")\n",
        "accuracy_tfidf = []\n",
        "print()\n",
        "for i in tfidf:\n",
        "    print(f'{i}:')\n",
        "    acc = accuracy_score(tfidf[i][0], tfidf[i][1])\n",
        "    accuracy_tfidf.append(acc)\n",
        "    print(f\"Acurácia: {acc:.2f}\")\n",
        "    print('----------------------------------')"
      ],
      "metadata": {
        "collapsed": true,
        "id": "h4eFRMM8J3vo"
      },
      "execution_count": null,
      "outputs": []
    },
    {
      "cell_type": "code",
      "source": [
        "print(\"======== RESULTADO TF-IDF ========\")\n",
        "accuracy_bow = []\n",
        "print()\n",
        "for i in bow:\n",
        "    print(f'{i}:')\n",
        "    accuracy_score(bow[i][0], bow[i][1])\n",
        "    acc = accuracy_score(bow[i][0], bow[i][1])\n",
        "    accuracy_bow.append(acc)\n",
        "    print(f\"Acurácia: {acc:.2f}\")\n",
        "    print('----------------------------------')"
      ],
      "metadata": {
        "collapsed": true,
        "id": "pS3uSYJUJ_b7"
      },
      "execution_count": null,
      "outputs": []
    },
    {
      "cell_type": "code",
      "source": [
        "labels = [i for i in results.keys()]\n",
        "\n",
        "colors = plt.cm.get_cmap('tab10', len(labels))\n",
        "\n",
        "fig, ax = plt.subplots()\n",
        "bars = ax.bar(labels, accuracy_main, color=colors(range(len(labels))))\n",
        "ax.set_ylabel('Acurácia')\n",
        "ax.set_title('Acurácia por modelo')\n",
        "\n",
        "legend_labels = [label for label in labels]\n",
        "ax.legend(bars, legend_labels, loc='center left', bbox_to_anchor=(1, 0.5))\n",
        "\n",
        "ax.set_yticks(np.arange(0, 1.1, 0.1))\n",
        "\n",
        "plt.xticks(rotation=-78)\n",
        "plt.show()"
      ],
      "metadata": {
        "collapsed": true,
        "id": "ZEOOzlmTKMT5"
      },
      "execution_count": null,
      "outputs": []
    },
    {
      "cell_type": "code",
      "source": [
        "labels = [i for i in tfidf.keys()]\n",
        "\n",
        "colors = plt.cm.get_cmap('tab10', len(labels))\n",
        "\n",
        "fig, ax = plt.subplots()\n",
        "bars = ax.bar(labels, accuracy_tfidf, color=colors(range(len(labels))))\n",
        "ax.set_ylabel('Acurácia')\n",
        "ax.set_title('Acurácia por TF-IDF')\n",
        "\n",
        "legend_labels = [label for label in labels]\n",
        "ax.legend(bars, legend_labels, loc='center left', bbox_to_anchor=(1, 0.5))\n",
        "\n",
        "ax.set_yticks(np.arange(0, 1.1, 0.1))\n",
        "\n",
        "plt.xticks(rotation=-78)\n",
        "plt.show()"
      ],
      "metadata": {
        "id": "bEqXPWP_PYLJ"
      },
      "execution_count": null,
      "outputs": []
    },
    {
      "cell_type": "code",
      "source": [
        "labels = [i for i in bow.keys()]\n",
        "\n",
        "colors = plt.cm.get_cmap('tab10', len(labels))\n",
        "\n",
        "fig, ax = plt.subplots()\n",
        "bars = ax.bar(labels, accuracy_bow, color=colors(range(len(labels))))\n",
        "ax.set_ylabel('Acurácia')\n",
        "ax.set_title('Acurácia por BoW')\n",
        "\n",
        "legend_labels = [label for label in labels]\n",
        "ax.legend(bars, legend_labels, loc='center left', bbox_to_anchor=(1, 0.5))\n",
        "\n",
        "ax.set_yticks(np.arange(0, 1.1, 0.1))\n",
        "\n",
        "plt.xticks(rotation=-78)\n",
        "plt.show()"
      ],
      "metadata": {
        "id": "4Cq73RsiPsi7"
      },
      "execution_count": null,
      "outputs": []
    },
    {
      "cell_type": "code",
      "source": [
        "import matplotlib.pyplot as plt\n",
        "import numpy as np\n",
        "from sklearn.metrics import accuracy_score\n",
        "\n",
        "labels = ['k-NN', 'Árvore de decisão', 'SVM', 'Naive Bayes', 'Random Forest']\n",
        "\n",
        "\n",
        "bar_width = 0.35\n",
        "index = np.arange(len(labels))\n",
        "\n",
        "fig, ax = plt.subplots()\n",
        "\n",
        "bars1 = ax.bar(index, accuracy_bow, bar_width, label='BoW', color='blue')\n",
        "\n",
        "bars2 = ax.bar(index + bar_width, accuracy_tfidf, bar_width, label='TF-IDF', color='orange')\n",
        "\n",
        "ax.set_xlabel('Modelos')\n",
        "ax.set_ylabel('Acurácia')\n",
        "ax.set_title('Comparação de Acurácia por Modelo e Vetorização')\n",
        "ax.set_xticks(index + bar_width / 2)\n",
        "ax.set_xticklabels(labels, rotation=-45)\n",
        "\n",
        "ax.legend(loc='center left', bbox_to_anchor=(1, 0.5))\n",
        "\n",
        "ax.set_yticks(np.arange(0, 1.1, 0.1))\n",
        "\n",
        "plt.tight_layout()\n",
        "plt.show()\n"
      ],
      "metadata": {
        "id": "LaQoTvVTRyLw"
      },
      "execution_count": null,
      "outputs": []
    },
    {
      "cell_type": "code",
      "source": [
        "avg_main = np.mean(accuracy_main)\n",
        "avg_tfidf = np.mean(accuracy_tfidf)\n",
        "avg_bow = np.mean(accuracy_bow)\n",
        "\n",
        "labels = [\"Main\", \"TF-IDF\", \"BoW\"]\n",
        "accuracies = [avg_main, avg_tfidf, avg_bow]\n",
        "\n",
        "colors = plt.cm.get_cmap('tab10', len(labels))\n",
        "\n",
        "fig, ax = plt.subplots()\n",
        "bars = ax.bar(labels, accuracies, color=colors(range(len(labels))))\n",
        "ax.set_ylabel('Acurácia')\n",
        "ax.set_title('Média de Acurácia')\n",
        "\n",
        "legend_labels = [label for label in labels]\n",
        "ax.legend(bars, legend_labels, loc='center left', bbox_to_anchor=(1, 0.5))\n",
        "\n",
        "ax.set_yticks(np.arange(0, 1.1, 0.1))\n",
        "\n",
        "plt.xticks(rotation=-78)\n",
        "plt.show()\n",
        "print(f'Média de Acurácia Main: {avg_main:.2f}')\n",
        "print(f'Média de Acurácia TF-IDF: {avg_tfidf:.2f}')\n",
        "print(f'Média de Acurácia BoW: {avg_bow:.2f}')"
      ],
      "metadata": {
        "id": "xkyuAc6tQpNQ"
      },
      "execution_count": null,
      "outputs": []
    },
    {
      "cell_type": "code",
      "source": [
        "accuracy_models = []\n",
        "for i in range(0, len(accuracy_main), 2):\n",
        "    model = [accuracy_main[i], accuracy_main[i + 1]]\n",
        "    accuracy_models.append(model)\n",
        "\n",
        "avg_models = []\n",
        "for k in accuracy_models:\n",
        "    avg = np.mean(k)\n",
        "    avg_models.append(avg)"
      ],
      "metadata": {
        "id": "48f0yMKVT57a"
      },
      "execution_count": null,
      "outputs": []
    },
    {
      "cell_type": "code",
      "source": [
        "avg_main = np.mean(accuracy_main)\n",
        "avg_tfidf = np.mean(accuracy_tfidf)\n",
        "avg_bow = np.mean(accuracy_bow)\n",
        "\n",
        "labels = ['k-NN', 'Árvore de decisão', 'SVM', 'Naive Bayes', 'Random Forest']\n",
        "\n",
        "accuracies = [k for k in avg_models]\n",
        "\n",
        "colors = plt.cm.get_cmap('tab10', len(labels))\n",
        "\n",
        "fig, ax = plt.subplots()\n",
        "bars = ax.bar(labels, accuracies, color=colors(range(len(labels))))\n",
        "ax.set_ylabel('Acurácia')\n",
        "ax.set_title('Média de Acurácia por modelo')\n",
        "\n",
        "legend_labels = [label for label in labels]\n",
        "ax.legend(bars, legend_labels, loc='center left', bbox_to_anchor=(1, 0.5))\n",
        "\n",
        "ax.set_yticks(np.arange(0, 1.1, 0.1))\n",
        "\n",
        "plt.xticks(rotation=-78)\n",
        "plt.show()\n",
        "print(f\"Média de acurácia k-NN: {accuracies[0]:.2f}\")\n",
        "print(f\"Média de acurácia Árvore de decisão:  {accuracies[1]:.2f}\")\n",
        "print(f\"Média de acurácia SVM: {accuracies[2]:.2f}\")\n",
        "print(f\"Média de acurácia Naive Bayes: {accuracies[3]:.2f}\")\n",
        "print(f\"Média de acurácia Random Forest: {accuracies[4]:.2f}\")"
      ],
      "metadata": {
        "id": "OkeXNAkHbGXD"
      },
      "execution_count": null,
      "outputs": []
    },
    {
      "cell_type": "code",
      "source": [
        "# Matriz de confusão\n",
        "\n",
        "ConfusionMatrixDisplay.from_predictions(y_test,y_pred)"
      ],
      "metadata": {
        "id": "PPfeZK1h25Hq"
      },
      "execution_count": null,
      "outputs": []
    }
  ]
}